{
  "cells": [
    {
      "cell_type": "markdown",
      "id": "boring-projector",
      "metadata": {
        "id": "boring-projector"
      },
      "source": [
        "[1999 to 2008 Diabetes Dataset](https://archive.ics.uci.edu/ml/datasets/diabetes+130-us+hospitals+for+years+1999-2008)"
      ]
    },
    {
      "cell_type": "code",
      "execution_count": null,
      "id": "moving-glasgow",
      "metadata": {
        "id": "moving-glasgow"
      },
      "outputs": [],
      "source": [
        "import os, tempfile, urllib, zipfile\n",
        "\n",
        "import pandas\n",
        "\n",
        "import tensorflow as tf\n",
        "\n",
        "import tensorflow_data_validation as tfdv"
      ]
    },
    {
      "cell_type": "code",
      "execution_count": null,
      "id": "found-pharmacy",
      "metadata": {
        "id": "found-pharmacy",
        "outputId": "28cc16d4-5f72-45d5-fda6-39ed3d13ae6b"
      },
      "outputs": [
        {
          "data": {
            "text/plain": [
              "(101766, 50)"
            ]
          },
          "execution_count": 2,
          "metadata": {},
          "output_type": "execute_result"
        }
      ],
      "source": [
        "dataurl = 'data/diabetic_data.csv'\n",
        "\n",
        "data = pandas.read_table(dataurl, na_values='?', sep=',')\n",
        "\n",
        "data.shape"
      ]
    },
    {
      "cell_type": "code",
      "execution_count": null,
      "id": "african-dictionary",
      "metadata": {
        "id": "african-dictionary",
        "outputId": "43b15209-a0d2-4cec-abe9-9d61d83b99a3"
      },
      "outputs": [
        {
          "data": {
            "text/html": [
              "<div>\n",
              "<style scoped>\n",
              "    .dataframe tbody tr th:only-of-type {\n",
              "        vertical-align: middle;\n",
              "    }\n",
              "\n",
              "    .dataframe tbody tr th {\n",
              "        vertical-align: top;\n",
              "    }\n",
              "\n",
              "    .dataframe thead th {\n",
              "        text-align: right;\n",
              "    }\n",
              "</style>\n",
              "<table border=\"1\" class=\"dataframe\">\n",
              "  <thead>\n",
              "    <tr style=\"text-align: right;\">\n",
              "      <th></th>\n",
              "      <th>encounter_id</th>\n",
              "      <th>patient_nbr</th>\n",
              "      <th>race</th>\n",
              "      <th>gender</th>\n",
              "      <th>age</th>\n",
              "      <th>weight</th>\n",
              "      <th>admission_type_id</th>\n",
              "      <th>discharge_disposition_id</th>\n",
              "    </tr>\n",
              "  </thead>\n",
              "  <tbody>\n",
              "    <tr>\n",
              "      <th>0</th>\n",
              "      <td>2278392</td>\n",
              "      <td>8222157</td>\n",
              "      <td>Caucasian</td>\n",
              "      <td>Female</td>\n",
              "      <td>[0-10)</td>\n",
              "      <td>NaN</td>\n",
              "      <td>6</td>\n",
              "      <td>25</td>\n",
              "    </tr>\n",
              "    <tr>\n",
              "      <th>1</th>\n",
              "      <td>149190</td>\n",
              "      <td>55629189</td>\n",
              "      <td>Caucasian</td>\n",
              "      <td>Female</td>\n",
              "      <td>[10-20)</td>\n",
              "      <td>NaN</td>\n",
              "      <td>1</td>\n",
              "      <td>1</td>\n",
              "    </tr>\n",
              "    <tr>\n",
              "      <th>2</th>\n",
              "      <td>64410</td>\n",
              "      <td>86047875</td>\n",
              "      <td>AfricanAmerican</td>\n",
              "      <td>Female</td>\n",
              "      <td>[20-30)</td>\n",
              "      <td>NaN</td>\n",
              "      <td>1</td>\n",
              "      <td>1</td>\n",
              "    </tr>\n",
              "    <tr>\n",
              "      <th>3</th>\n",
              "      <td>500364</td>\n",
              "      <td>82442376</td>\n",
              "      <td>Caucasian</td>\n",
              "      <td>Male</td>\n",
              "      <td>[30-40)</td>\n",
              "      <td>NaN</td>\n",
              "      <td>1</td>\n",
              "      <td>1</td>\n",
              "    </tr>\n",
              "    <tr>\n",
              "      <th>4</th>\n",
              "      <td>16680</td>\n",
              "      <td>42519267</td>\n",
              "      <td>Caucasian</td>\n",
              "      <td>Male</td>\n",
              "      <td>[40-50)</td>\n",
              "      <td>NaN</td>\n",
              "      <td>1</td>\n",
              "      <td>1</td>\n",
              "    </tr>\n",
              "  </tbody>\n",
              "</table>\n",
              "</div>"
            ],
            "text/plain": [
              "   encounter_id  patient_nbr             race  gender      age weight  \\\n",
              "0       2278392      8222157        Caucasian  Female   [0-10)    NaN   \n",
              "1        149190     55629189        Caucasian  Female  [10-20)    NaN   \n",
              "2         64410     86047875  AfricanAmerican  Female  [20-30)    NaN   \n",
              "3        500364     82442376        Caucasian    Male  [30-40)    NaN   \n",
              "4         16680     42519267        Caucasian    Male  [40-50)    NaN   \n",
              "\n",
              "   admission_type_id  discharge_disposition_id  \n",
              "0                  6                        25  \n",
              "1                  1                         1  \n",
              "2                  1                         1  \n",
              "3                  1                         1  \n",
              "4                  1                         1  "
            ]
          },
          "execution_count": 3,
          "metadata": {},
          "output_type": "execute_result"
        }
      ],
      "source": [
        "data.iloc[:5, :8]"
      ]
    },
    {
      "cell_type": "code",
      "execution_count": null,
      "id": "adverse-picnic",
      "metadata": {
        "id": "adverse-picnic",
        "outputId": "24da18f3-4540-490b-e589-1ed56194643e"
      },
      "outputs": [
        {
          "data": {
            "text/html": [
              "<div>\n",
              "<style scoped>\n",
              "    .dataframe tbody tr th:only-of-type {\n",
              "        vertical-align: middle;\n",
              "    }\n",
              "\n",
              "    .dataframe tbody tr th {\n",
              "        vertical-align: top;\n",
              "    }\n",
              "\n",
              "    .dataframe thead th {\n",
              "        text-align: right;\n",
              "    }\n",
              "</style>\n",
              "<table border=\"1\" class=\"dataframe\">\n",
              "  <thead>\n",
              "    <tr style=\"text-align: right;\">\n",
              "      <th></th>\n",
              "      <th>glipizide-metformin</th>\n",
              "      <th>glimepiride-pioglitazone</th>\n",
              "      <th>metformin-rosiglitazone</th>\n",
              "      <th>metformin-pioglitazone</th>\n",
              "      <th>change</th>\n",
              "      <th>diabetesMed</th>\n",
              "      <th>readmitted</th>\n",
              "    </tr>\n",
              "  </thead>\n",
              "  <tbody>\n",
              "    <tr>\n",
              "      <th>0</th>\n",
              "      <td>No</td>\n",
              "      <td>No</td>\n",
              "      <td>No</td>\n",
              "      <td>No</td>\n",
              "      <td>No</td>\n",
              "      <td>No</td>\n",
              "      <td>NO</td>\n",
              "    </tr>\n",
              "    <tr>\n",
              "      <th>1</th>\n",
              "      <td>No</td>\n",
              "      <td>No</td>\n",
              "      <td>No</td>\n",
              "      <td>No</td>\n",
              "      <td>Ch</td>\n",
              "      <td>Yes</td>\n",
              "      <td>&gt;30</td>\n",
              "    </tr>\n",
              "    <tr>\n",
              "      <th>2</th>\n",
              "      <td>No</td>\n",
              "      <td>No</td>\n",
              "      <td>No</td>\n",
              "      <td>No</td>\n",
              "      <td>No</td>\n",
              "      <td>Yes</td>\n",
              "      <td>NO</td>\n",
              "    </tr>\n",
              "    <tr>\n",
              "      <th>3</th>\n",
              "      <td>No</td>\n",
              "      <td>No</td>\n",
              "      <td>No</td>\n",
              "      <td>No</td>\n",
              "      <td>Ch</td>\n",
              "      <td>Yes</td>\n",
              "      <td>NO</td>\n",
              "    </tr>\n",
              "    <tr>\n",
              "      <th>4</th>\n",
              "      <td>No</td>\n",
              "      <td>No</td>\n",
              "      <td>No</td>\n",
              "      <td>No</td>\n",
              "      <td>Ch</td>\n",
              "      <td>Yes</td>\n",
              "      <td>NO</td>\n",
              "    </tr>\n",
              "  </tbody>\n",
              "</table>\n",
              "</div>"
            ],
            "text/plain": [
              "  glipizide-metformin glimepiride-pioglitazone metformin-rosiglitazone  \\\n",
              "0                  No                       No                      No   \n",
              "1                  No                       No                      No   \n",
              "2                  No                       No                      No   \n",
              "3                  No                       No                      No   \n",
              "4                  No                       No                      No   \n",
              "\n",
              "  metformin-pioglitazone change diabetesMed readmitted  \n",
              "0                     No     No          No         NO  \n",
              "1                     No     Ch         Yes        >30  \n",
              "2                     No     No         Yes         NO  \n",
              "3                     No     Ch         Yes         NO  \n",
              "4                     No     Ch         Yes         NO  "
            ]
          },
          "execution_count": 4,
          "metadata": {},
          "output_type": "execute_result"
        }
      ],
      "source": [
        "data.iloc[:5, 43:]"
      ]
    },
    {
      "cell_type": "code",
      "execution_count": null,
      "id": "indirect-genealogy",
      "metadata": {
        "id": "indirect-genealogy",
        "outputId": "f25b6a63-9ba8-4066-fed0-bd80b1a9ce2e"
      },
      "outputs": [
        {
          "data": {
            "text/plain": [
              "(71236, 15265, 15265)"
            ]
          },
          "execution_count": 5,
          "metadata": {},
          "output_type": "execute_result"
        }
      ],
      "source": [
        "from sklearn.model_selection import train_test_split\n",
        "\n",
        "train, test = train_test_split(data, train_size=0.7, test_size=0.3, random_state=0)\n",
        "\n",
        "test, serve = train_test_split(test, test_size=0.5, random_state=0)\n",
        "\n",
        "train.shape[0], test.shape[0], serve.shape[0]"
      ]
    },
    {
      "cell_type": "code",
      "execution_count": null,
      "id": "ethical-philippines",
      "metadata": {
        "id": "ethical-philippines",
        "outputId": "f1e1d93e-32e5-43d2-90f9-9d9aab824ceb"
      },
      "outputs": [
        {
          "data": {
            "text/plain": [
              "48"
            ]
          },
          "execution_count": 6,
          "metadata": {},
          "output_type": "execute_result"
        }
      ],
      "source": [
        "from tensorflow_data_validation import StatsOptions\n",
        "\n",
        "ColDelete = ['encounter_id', 'patient_nbr']\n",
        "\n",
        "OurColumn = [i for i in data.columns if i not in ColDelete]\n",
        "\n",
        "stats_options = StatsOptions(feature_allowlist=OurColumn)\n",
        "\n",
        "total_cols = len(stats_options.feature_allowlist)\n",
        "\n",
        "total_cols"
      ]
    }
  ],
  "metadata": {
    "kernelspec": {
      "display_name": "Python 3",
      "language": "python",
      "name": "python3"
    },
    "language_info": {
      "codemirror_mode": {
        "name": "ipython",
        "version": 3
      },
      "file_extension": ".py",
      "mimetype": "text/x-python",
      "name": "python",
      "nbconvert_exporter": "python",
      "pygments_lexer": "ipython3",
      "version": "3.8.8"
    },
    "colab": {
      "provenance": []
    }
  },
  "nbformat": 4,
  "nbformat_minor": 5
}