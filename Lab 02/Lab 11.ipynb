{
 "cells": [
  {
   "cell_type": "code",
   "execution_count": 1,
   "id": "medieval-generator",
   "metadata": {},
   "outputs": [
    {
     "data": {
      "text/plain": [
       "(32561, 15)"
      ]
     },
     "execution_count": 1,
     "metadata": {},
     "output_type": "execute_result"
    }
   ],
   "source": [
    "import tensorflow as tf\n",
    "\n",
    "import pandas\n",
    "\n",
    "data = pandas.read_table('data/adult.data', skipinitialspace=True, sep=',')\n",
    "\n",
    "data.shape"
   ]
  },
  {
   "cell_type": "code",
   "execution_count": 2,
   "id": "collective-furniture",
   "metadata": {},
   "outputs": [
    {
     "data": {
      "text/html": [
       "<div>\n",
       "<style scoped>\n",
       "    .dataframe tbody tr th:only-of-type {\n",
       "        vertical-align: middle;\n",
       "    }\n",
       "\n",
       "    .dataframe tbody tr th {\n",
       "        vertical-align: top;\n",
       "    }\n",
       "\n",
       "    .dataframe thead th {\n",
       "        text-align: right;\n",
       "    }\n",
       "</style>\n",
       "<table border=\"1\" class=\"dataframe\">\n",
       "  <thead>\n",
       "    <tr style=\"text-align: right;\">\n",
       "      <th></th>\n",
       "      <th>age</th>\n",
       "      <th>workclass</th>\n",
       "      <th>fnlwgt</th>\n",
       "      <th>education</th>\n",
       "      <th>education-num</th>\n",
       "      <th>marital-status</th>\n",
       "      <th>occupation</th>\n",
       "    </tr>\n",
       "  </thead>\n",
       "  <tbody>\n",
       "    <tr>\n",
       "      <th>0</th>\n",
       "      <td>39</td>\n",
       "      <td>State-gov</td>\n",
       "      <td>77516</td>\n",
       "      <td>Bachelors</td>\n",
       "      <td>13</td>\n",
       "      <td>Never-married</td>\n",
       "      <td>Adm-clerical</td>\n",
       "    </tr>\n",
       "    <tr>\n",
       "      <th>1</th>\n",
       "      <td>50</td>\n",
       "      <td>Self-emp-not-inc</td>\n",
       "      <td>83311</td>\n",
       "      <td>Bachelors</td>\n",
       "      <td>13</td>\n",
       "      <td>Married-civ-spouse</td>\n",
       "      <td>Exec-managerial</td>\n",
       "    </tr>\n",
       "    <tr>\n",
       "      <th>2</th>\n",
       "      <td>38</td>\n",
       "      <td>Private</td>\n",
       "      <td>215646</td>\n",
       "      <td>HS-grad</td>\n",
       "      <td>9</td>\n",
       "      <td>Divorced</td>\n",
       "      <td>Handlers-cleaners</td>\n",
       "    </tr>\n",
       "    <tr>\n",
       "      <th>3</th>\n",
       "      <td>53</td>\n",
       "      <td>Private</td>\n",
       "      <td>234721</td>\n",
       "      <td>11th</td>\n",
       "      <td>7</td>\n",
       "      <td>Married-civ-spouse</td>\n",
       "      <td>Handlers-cleaners</td>\n",
       "    </tr>\n",
       "    <tr>\n",
       "      <th>4</th>\n",
       "      <td>28</td>\n",
       "      <td>Private</td>\n",
       "      <td>338409</td>\n",
       "      <td>Bachelors</td>\n",
       "      <td>13</td>\n",
       "      <td>Married-civ-spouse</td>\n",
       "      <td>Prof-specialty</td>\n",
       "    </tr>\n",
       "  </tbody>\n",
       "</table>\n",
       "</div>"
      ],
      "text/plain": [
       "   age         workclass  fnlwgt  education  education-num  \\\n",
       "0   39         State-gov   77516  Bachelors             13   \n",
       "1   50  Self-emp-not-inc   83311  Bachelors             13   \n",
       "2   38           Private  215646    HS-grad              9   \n",
       "3   53           Private  234721       11th              7   \n",
       "4   28           Private  338409  Bachelors             13   \n",
       "\n",
       "       marital-status         occupation  \n",
       "0       Never-married       Adm-clerical  \n",
       "1  Married-civ-spouse    Exec-managerial  \n",
       "2            Divorced  Handlers-cleaners  \n",
       "3  Married-civ-spouse  Handlers-cleaners  \n",
       "4  Married-civ-spouse     Prof-specialty  "
      ]
     },
     "execution_count": 2,
     "metadata": {},
     "output_type": "execute_result"
    }
   ],
   "source": [
    "data.iloc[:5, :7]"
   ]
  },
  {
   "cell_type": "code",
   "execution_count": 3,
   "id": "reduced-furniture",
   "metadata": {},
   "outputs": [
    {
     "data": {
      "text/html": [
       "<div>\n",
       "<style scoped>\n",
       "    .dataframe tbody tr th:only-of-type {\n",
       "        vertical-align: middle;\n",
       "    }\n",
       "\n",
       "    .dataframe tbody tr th {\n",
       "        vertical-align: top;\n",
       "    }\n",
       "\n",
       "    .dataframe thead th {\n",
       "        text-align: right;\n",
       "    }\n",
       "</style>\n",
       "<table border=\"1\" class=\"dataframe\">\n",
       "  <thead>\n",
       "    <tr style=\"text-align: right;\">\n",
       "      <th></th>\n",
       "      <th>relationship</th>\n",
       "      <th>race</th>\n",
       "      <th>sex</th>\n",
       "      <th>capital-gain</th>\n",
       "      <th>capital-loss</th>\n",
       "      <th>hours-per-week</th>\n",
       "      <th>native-country</th>\n",
       "      <th>label</th>\n",
       "    </tr>\n",
       "  </thead>\n",
       "  <tbody>\n",
       "    <tr>\n",
       "      <th>0</th>\n",
       "      <td>Not-in-family</td>\n",
       "      <td>White</td>\n",
       "      <td>Male</td>\n",
       "      <td>2174</td>\n",
       "      <td>0</td>\n",
       "      <td>40</td>\n",
       "      <td>United-States</td>\n",
       "      <td>&lt;=50K</td>\n",
       "    </tr>\n",
       "    <tr>\n",
       "      <th>1</th>\n",
       "      <td>Husband</td>\n",
       "      <td>White</td>\n",
       "      <td>Male</td>\n",
       "      <td>0</td>\n",
       "      <td>0</td>\n",
       "      <td>13</td>\n",
       "      <td>United-States</td>\n",
       "      <td>&lt;=50K</td>\n",
       "    </tr>\n",
       "    <tr>\n",
       "      <th>2</th>\n",
       "      <td>Not-in-family</td>\n",
       "      <td>White</td>\n",
       "      <td>Male</td>\n",
       "      <td>0</td>\n",
       "      <td>0</td>\n",
       "      <td>40</td>\n",
       "      <td>United-States</td>\n",
       "      <td>&lt;=50K</td>\n",
       "    </tr>\n",
       "    <tr>\n",
       "      <th>3</th>\n",
       "      <td>Husband</td>\n",
       "      <td>Black</td>\n",
       "      <td>Male</td>\n",
       "      <td>0</td>\n",
       "      <td>0</td>\n",
       "      <td>40</td>\n",
       "      <td>United-States</td>\n",
       "      <td>&lt;=50K</td>\n",
       "    </tr>\n",
       "    <tr>\n",
       "      <th>4</th>\n",
       "      <td>Wife</td>\n",
       "      <td>Black</td>\n",
       "      <td>Female</td>\n",
       "      <td>0</td>\n",
       "      <td>0</td>\n",
       "      <td>40</td>\n",
       "      <td>Cuba</td>\n",
       "      <td>&lt;=50K</td>\n",
       "    </tr>\n",
       "  </tbody>\n",
       "</table>\n",
       "</div>"
      ],
      "text/plain": [
       "    relationship   race     sex  capital-gain  capital-loss  hours-per-week  \\\n",
       "0  Not-in-family  White    Male          2174             0              40   \n",
       "1        Husband  White    Male             0             0              13   \n",
       "2  Not-in-family  White    Male             0             0              40   \n",
       "3        Husband  Black    Male             0             0              40   \n",
       "4           Wife  Black  Female             0             0              40   \n",
       "\n",
       "  native-country  label  \n",
       "0  United-States  <=50K  \n",
       "1  United-States  <=50K  \n",
       "2  United-States  <=50K  \n",
       "3  United-States  <=50K  \n",
       "4           Cuba  <=50K  "
      ]
     },
     "execution_count": 3,
     "metadata": {},
     "output_type": "execute_result"
    }
   ],
   "source": [
    "data.iloc[:5, 7:]"
   ]
  },
  {
   "cell_type": "code",
   "execution_count": 4,
   "id": "mexican-webcam",
   "metadata": {},
   "outputs": [
    {
     "data": {
      "text/plain": [
       "0"
      ]
     },
     "execution_count": 4,
     "metadata": {},
     "output_type": "execute_result"
    }
   ],
   "source": [
    "null = data.isnull().sum()\n",
    "\n",
    "null.sum()"
   ]
  },
  {
   "cell_type": "code",
   "execution_count": 5,
   "id": "executed-worthy",
   "metadata": {},
   "outputs": [
    {
     "data": {
      "text/plain": [
       "(6513, 6517)"
      ]
     },
     "execution_count": 5,
     "metadata": {},
     "output_type": "execute_result"
    }
   ],
   "source": [
    "from sklearn.model_selection import train_test_split\n",
    "\n",
    "from util import add_extra_rows\n",
    "\n",
    "train, test = train_test_split(data, test_size=0.2, shuffle=False)\n",
    "\n",
    "test_sample = add_extra_rows(test)\n",
    "\n",
    "test.shape[0], test_sample.shape[0]"
   ]
  },
  {
   "cell_type": "markdown",
   "id": "outside-brazil",
   "metadata": {},
   "source": [
    "`Table Statistics`"
   ]
  },
  {
   "cell_type": "code",
   "execution_count": 6,
   "id": "honey-mortality",
   "metadata": {},
   "outputs": [
    {
     "data": {
      "text/plain": [
       "tensorflow_metadata.proto.v0.statistics_pb2.DatasetFeatureStatisticsList"
      ]
     },
     "execution_count": 6,
     "metadata": {},
     "output_type": "execute_result"
    }
   ],
   "source": [
    "from tensorflow_data_validation import generate_statistics_from_dataframe\n",
    "\n",
    "train_stats = generate_statistics_from_dataframe(train)\n",
    "\n",
    "statlist = {}\n",
    "\n",
    "statlist['rhs_statistics'] = train_stats\n",
    "\n",
    "statlist['rhs_name'] = 'Train Stats'\n",
    "\n",
    "type(train_stats)"
   ]
  },
  {
   "cell_type": "code",
   "execution_count": 7,
   "id": "chubby-float",
   "metadata": {},
   "outputs": [],
   "source": [
    "from tensorflow_data_validation import visualize_statistics\n",
    "\n",
    "visualize_statistics(train_stats)"
   ]
  },
  {
   "cell_type": "code",
   "execution_count": 8,
   "id": "unknown-commission",
   "metadata": {},
   "outputs": [
    {
     "data": {
      "text/plain": [
       "tensorflow_metadata.proto.v0.statistics_pb2.DatasetFeatureStatisticsList"
      ]
     },
     "execution_count": 8,
     "metadata": {},
     "output_type": "execute_result"
    }
   ],
   "source": [
    "test_stats = generate_statistics_from_dataframe(test_sample)\n",
    "\n",
    "statlist['lhs_statistics'] = test_stats\n",
    "\n",
    "statlist['lhs_name'] = \"Test Stats\"\n",
    "\n",
    "type(test_stats)"
   ]
  },
  {
   "cell_type": "code",
   "execution_count": 9,
   "id": "plastic-monthly",
   "metadata": {},
   "outputs": [],
   "source": [
    "visualize_statistics(**statlist)"
   ]
  },
  {
   "cell_type": "markdown",
   "id": "american-welding",
   "metadata": {},
   "source": [
    "`Set Lower & Upper Limit Age Data on Test Sample Table`\n",
    "\n",
    "`0 to 17`\n",
    "\n",
    "`100 to 90`"
   ]
  },
  {
   "cell_type": "code",
   "execution_count": 10,
   "id": "normal-springer",
   "metadata": {},
   "outputs": [],
   "source": [
    "lower_age = test_sample['age'] > 16\n",
    "\n",
    "upper_age = test_sample['age'] < 91\n",
    "\n",
    "test_sample = test_sample[lower_age & upper_age]\n",
    "\n",
    "test_sample = test_sample.dropna()"
   ]
  },
  {
   "cell_type": "code",
   "execution_count": 11,
   "id": "following-skiing",
   "metadata": {},
   "outputs": [],
   "source": [
    "test_stats = generate_statistics_from_dataframe(test_sample)\n",
    "\n",
    "statlist['lhs_statistics'] = test_stats\n",
    "\n",
    "statlist['lhs_name'] = \"Test Stats\"\n",
    "\n",
    "visualize_statistics(**statlist)"
   ]
  },
  {
   "cell_type": "markdown",
   "id": "under-magnet",
   "metadata": {},
   "source": [
    "`Table Schema`"
   ]
  },
  {
   "cell_type": "code",
   "execution_count": 12,
   "id": "amazing-trace",
   "metadata": {},
   "outputs": [],
   "source": [
    "from tensorflow_data_validation import infer_schema, display_schema\n",
    "\n",
    "train_main_schema = infer_schema(train_stats)\n",
    "\n",
    "display_schema(train_main_schema)"
   ]
  },
  {
   "cell_type": "markdown",
   "id": "approximate-washer",
   "metadata": {},
   "source": [
    "`Anomalies Checker`\n",
    "\n",
    "`Validate Test Dataset on Train Schema (Main Schema)`"
   ]
  },
  {
   "cell_type": "code",
   "execution_count": 13,
   "id": "fourth-smell",
   "metadata": {},
   "outputs": [
    {
     "data": {
      "text/html": [
       "<div>\n",
       "<style scoped>\n",
       "    .dataframe tbody tr th:only-of-type {\n",
       "        vertical-align: middle;\n",
       "    }\n",
       "\n",
       "    .dataframe tbody tr th {\n",
       "        vertical-align: top;\n",
       "    }\n",
       "\n",
       "    .dataframe thead th {\n",
       "        text-align: right;\n",
       "    }\n",
       "</style>\n",
       "<table border=\"1\" class=\"dataframe\">\n",
       "  <thead>\n",
       "    <tr style=\"text-align: right;\">\n",
       "      <th></th>\n",
       "      <th>Anomaly short description</th>\n",
       "      <th>Anomaly long description</th>\n",
       "    </tr>\n",
       "    <tr>\n",
       "      <th>Feature name</th>\n",
       "      <th></th>\n",
       "      <th></th>\n",
       "    </tr>\n",
       "  </thead>\n",
       "  <tbody>\n",
       "    <tr>\n",
       "      <th>'occupation'</th>\n",
       "      <td>Unexpected string values</td>\n",
       "      <td>Examples contain values missing from the schema: gamer (&lt;1%).</td>\n",
       "    </tr>\n",
       "    <tr>\n",
       "      <th>'race'</th>\n",
       "      <td>Unexpected string values</td>\n",
       "      <td>Examples contain values missing from the schema: Asian (&lt;1%).</td>\n",
       "    </tr>\n",
       "    <tr>\n",
       "      <th>'native-country'</th>\n",
       "      <td>Unexpected string values</td>\n",
       "      <td>Examples contain values missing from the schema: Mongolia (&lt;1%).</td>\n",
       "    </tr>\n",
       "  </tbody>\n",
       "</table>\n",
       "</div>"
      ],
      "text/plain": [
       "                 Anomaly short description  \\\n",
       "Feature name                                 \n",
       "'occupation'      Unexpected string values   \n",
       "'race'            Unexpected string values   \n",
       "'native-country'  Unexpected string values   \n",
       "\n",
       "                                                           Anomaly long description  \n",
       "Feature name                                                                         \n",
       "'occupation'      Examples contain values missing from the schema: gamer (<1%).      \n",
       "'race'            Examples contain values missing from the schema: Asian (<1%).      \n",
       "'native-country'  Examples contain values missing from the schema: Mongolia (<1%).   "
      ]
     },
     "metadata": {},
     "output_type": "display_data"
    }
   ],
   "source": [
    "from tensorflow_data_validation import validate_statistics, display_anomalies\n",
    "\n",
    "test_sample_anomalies = validate_statistics(test_stats, train_main_schema)\n",
    "\n",
    "display_anomalies(test_sample_anomalies)"
   ]
  },
  {
   "cell_type": "markdown",
   "id": "ambient-demographic",
   "metadata": {},
   "source": [
    "`ENUM_TYPE_UNEXPECTED_STRING_VALUES`"
   ]
  }
 ],
 "metadata": {
  "kernelspec": {
   "display_name": "Python 3",
   "language": "python",
   "name": "python3"
  },
  "language_info": {
   "codemirror_mode": {
    "name": "ipython",
    "version": 3
   },
   "file_extension": ".py",
   "mimetype": "text/x-python",
   "name": "python",
   "nbconvert_exporter": "python",
   "pygments_lexer": "ipython3",
   "version": "3.8.8"
  }
 },
 "nbformat": 4,
 "nbformat_minor": 5
}
