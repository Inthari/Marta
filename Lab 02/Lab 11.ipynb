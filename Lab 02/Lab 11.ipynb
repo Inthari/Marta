{
  "cells": [
    {
      "cell_type": "code",
      "execution_count": null,
      "id": "fitted-excellence",
      "metadata": {
        "id": "fitted-excellence",
        "outputId": "e1e09114-aa23-4ec4-b84e-c7cced25d5e1"
      },
      "outputs": [
        {
          "data": {
            "text/plain": [
              "(32561, 15)"
            ]
          },
          "execution_count": 1,
          "metadata": {},
          "output_type": "execute_result"
        }
      ],
      "source": [
        "import pandas\n",
        "\n",
        "adult = pandas.read_table('data/adult.data', skipinitialspace=True, sep=',')\n",
        "\n",
        "adult.shape"
      ]
    },
    {
      "cell_type": "code",
      "execution_count": null,
      "id": "domestic-temperature",
      "metadata": {
        "id": "domestic-temperature",
        "outputId": "5e49bacc-d493-40d9-d675-b59cd3d94a4d"
      },
      "outputs": [
        {
          "data": {
            "text/plain": [
              "(26048, 6513)"
            ]
          },
          "execution_count": 2,
          "metadata": {},
          "output_type": "execute_result"
        }
      ],
      "source": [
        "from sklearn.model_selection import train_test_split\n",
        "\n",
        "test_size = 0.2\n",
        "\n",
        "train, test = train_test_split(adult, test_size=test_size, shuffle=False)\n",
        "\n",
        "train.shape[0], test.shape[0]"
      ]
    },
    {
      "cell_type": "code",
      "execution_count": null,
      "id": "funded-lesbian",
      "metadata": {
        "id": "funded-lesbian",
        "outputId": "85aa369a-8c33-4595-d66f-21d6b7f5a411"
      },
      "outputs": [
        {
          "data": {
            "text/plain": [
              "6517"
            ]
          },
          "execution_count": 3,
          "metadata": {},
          "output_type": "execute_result"
        }
      ],
      "source": [
        "from util import add_extra_rows\n",
        "\n",
        "tester = add_extra_rows(test)\n",
        "\n",
        "tester.shape[0]"
      ]
    },
    {
      "cell_type": "code",
      "execution_count": null,
      "id": "front-yield",
      "metadata": {
        "id": "front-yield"
      },
      "outputs": [],
      "source": [
        "from tensorflow_data_validation import generate_statistics_from_dataframe\n",
        "\n",
        "trainStats = generate_statistics_from_dataframe(train)\n",
        "\n",
        "testerStats = generate_statistics_from_dataframe(tester)\n",
        "\n",
        "testStats = generate_statistics_from_dataframe(test)"
      ]
    },
    {
      "cell_type": "code",
      "execution_count": null,
      "id": "finished-exploration",
      "metadata": {
        "id": "finished-exploration"
      },
      "outputs": [],
      "source": [
        "statlist = {}\n",
        "\n",
        "statlist['rhs_statistics'] = trainStats\n",
        "\n",
        "statlist['lhs_statistics'] = testStats"
      ]
    },
    {
      "cell_type": "markdown",
      "id": "raised-timeline",
      "metadata": {
        "id": "raised-timeline"
      },
      "source": [
        "```python\n",
        "from tensorflow_data_validation import visualize_statistics\n",
        "\n",
        "visualize_statistics(trainStats)\n",
        "```"
      ]
    },
    {
      "cell_type": "markdown",
      "id": "controlled-astrology",
      "metadata": {
        "id": "controlled-astrology"
      },
      "source": [
        "```python\n",
        "from tensorflow_data_validation import visualize_statistics\n",
        "\n",
        "statlist['rhs_name'] = 'trainStats'\n",
        "\n",
        "statlist['lhs_name'] = 'testStats'\n",
        "\n",
        "visualize_statistics(**statlist)\n",
        "```"
      ]
    },
    {
      "cell_type": "markdown",
      "id": "contrary-carol",
      "metadata": {
        "id": "contrary-carol"
      },
      "source": [
        "```python\n",
        "statlist['lhs_statistics'] = testerStats\n",
        "\n",
        "statlist['lhs_name'] = 'testerStats'\n",
        "\n",
        "visualize_statistics(**statlist)\n",
        "```"
      ]
    },
    {
      "cell_type": "code",
      "execution_count": null,
      "id": "universal-playback",
      "metadata": {
        "id": "universal-playback"
      },
      "outputs": [],
      "source": [
        "from tensorflow_data_validation import infer_schema, validate_statistics\n",
        "\n",
        "trainSchema = infer_schema(trainStats)"
      ]
    },
    {
      "cell_type": "markdown",
      "id": "furnished-insight",
      "metadata": {
        "id": "furnished-insight"
      },
      "source": [
        "```python\n",
        "\n",
        "from tensorflow_data_validation import display_anomalies\n",
        "\n",
        "display_anomalies(testAnomalies)\n",
        "\n",
        "display_anomalies(testerAnomalies)\n",
        "```"
      ]
    },
    {
      "cell_type": "code",
      "execution_count": null,
      "id": "anticipated-diary",
      "metadata": {
        "id": "anticipated-diary",
        "outputId": "6e97664d-672b-468d-d332-daac01cf910c"
      },
      "outputs": [
        {
          "data": {
            "text/plain": [
              "google.protobuf.pyext._message.MessageMapContainer"
            ]
          },
          "execution_count": 7,
          "metadata": {},
          "output_type": "execute_result"
        }
      ],
      "source": [
        "from tensorflow_data_validation import display_anomalies\n",
        "\n",
        "testAnomalies = validate_statistics(testStats, trainSchema)\n",
        "\n",
        "type(testAnomalies.anomaly_info)"
      ]
    },
    {
      "cell_type": "code",
      "execution_count": null,
      "id": "owned-punishment",
      "metadata": {
        "id": "owned-punishment",
        "outputId": "cb326525-dc81-4ec8-8ab4-14f17e038dbc"
      },
      "outputs": [
        {
          "data": {
            "text/plain": [
              "False"
            ]
          },
          "execution_count": 8,
          "metadata": {},
          "output_type": "execute_result"
        }
      ],
      "source": [
        "False if len(testAnomalies.anomaly_info.items()) == 0 else True"
      ]
    },
    {
      "cell_type": "code",
      "execution_count": null,
      "id": "seventh-bearing",
      "metadata": {
        "id": "seventh-bearing",
        "outputId": "61896acc-210a-4a11-ce83-d3d2fe719670"
      },
      "outputs": [
        {
          "data": {
            "text/plain": [
              "True"
            ]
          },
          "execution_count": 9,
          "metadata": {},
          "output_type": "execute_result"
        }
      ],
      "source": [
        "from tensorflow_data_validation import display_anomalies\n",
        "\n",
        "testerAnomalies = validate_statistics(testerStats, trainSchema)\n",
        "\n",
        "False if len(testerAnomalies.anomaly_info.items()) == 0 else True"
      ]
    },
    {
      "cell_type": "code",
      "execution_count": null,
      "id": "dress-ridge",
      "metadata": {
        "id": "dress-ridge"
      },
      "outputs": [],
      "source": [
        "display_anomalies(testerAnomalies)"
      ]
    },
    {
      "cell_type": "code",
      "execution_count": null,
      "id": "acoustic-separate",
      "metadata": {
        "id": "acoustic-separate"
      },
      "outputs": [],
      "source": [
        "from tensorflow_data_validation import get_domain\n",
        "\n",
        "raceValues = get_domain(trainSchema, 'race').value\n",
        "\n",
        "assert 'Asian' not in raceValues, 'False'"
      ]
    },
    {
      "cell_type": "code",
      "execution_count": null,
      "id": "indirect-dining",
      "metadata": {
        "id": "indirect-dining"
      },
      "outputs": [],
      "source": [
        "get_domain(trainSchema, 'race').value.append('Asian')"
      ]
    },
    {
      "cell_type": "code",
      "execution_count": null,
      "id": "ongoing-beach",
      "metadata": {
        "id": "ongoing-beach"
      },
      "outputs": [],
      "source": [
        "assert 'Asian' in raceValues, 'False'"
      ]
    },
    {
      "cell_type": "code",
      "execution_count": null,
      "id": "configured-bloom",
      "metadata": {
        "id": "configured-bloom"
      },
      "outputs": [],
      "source": [
        "testerAnomalies = validate_statistics(testerStats, trainSchema)\n",
        "\n",
        "display_anomalies(testerAnomalies)"
      ]
    }
  ],
  "metadata": {
    "kernelspec": {
      "display_name": "Python 3",
      "language": "python",
      "name": "python3"
    },
    "language_info": {
      "codemirror_mode": {
        "name": "ipython",
        "version": 3
      },
      "file_extension": ".py",
      "mimetype": "text/x-python",
      "name": "python",
      "nbconvert_exporter": "python",
      "pygments_lexer": "ipython3",
      "version": "3.8.8"
    },
    "colab": {
      "provenance": []
    }
  },
  "nbformat": 4,
  "nbformat_minor": 5
}