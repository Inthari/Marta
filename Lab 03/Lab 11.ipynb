{
  "cells": [
    {
      "cell_type": "code",
      "execution_count": 1,
      "metadata": {
        "id": "QnY0k0VfOfTG"
      },
      "outputs": [],
      "source": [
        "import os, warnings\n",
        "\n",
        "warnings.filterwarnings('ignore')\n",
        "\n",
        "import tensorflow as tf\n",
        "\n",
        "import keras_tuner as kt"
      ]
    },
    {
      "cell_type": "code",
      "execution_count": 2,
      "metadata": {
        "id": "vomT0bqToMQF"
      },
      "outputs": [],
      "source": [
        "import numpy as np\n",
        "\n",
        "from tensorflow.keras import layers, models, datasets, optimizers\n",
        "\n",
        "(train_image, train_label), (test_image, test_label) = datasets.mnist.load_data()"
      ]
    },
    {
      "cell_type": "code",
      "execution_count": 3,
      "metadata": {
        "id": "PohMx3FKPkv-"
      },
      "outputs": [],
      "source": [
        "train_image = tf.cast(train_image, tf.float32) / 255.0"
      ]
    },
    {
      "cell_type": "code",
      "execution_count": 4,
      "metadata": {
        "colab": {
          "base_uri": "https://localhost:8080/"
        },
        "id": "Mv_60sY_Qx7u",
        "outputId": "6b7cc30a-ea8d-4ac1-b28d-a0aaa11a538d"
      },
      "outputs": [
        {
          "data": {
            "text/plain": [
              "(0.0, 1.0)"
            ]
          },
          "execution_count": 4,
          "metadata": {},
          "output_type": "execute_result"
        }
      ],
      "source": [
        "test_image = tf.cast(test_image, tf.float32) / 255.0\n",
        "\n",
        "np.min(test_image[0]), np.max(test_image[0])"
      ]
    },
    {
      "cell_type": "code",
      "execution_count": null,
      "metadata": {
        "id": "EwVZL9w0SK2N"
      },
      "outputs": [],
      "source": [
        "from tensorflow.keras.models import Sequential\n",
        "\n",
        "input_shape = (28, 28)\n",
        "\n",
        "model = Sequential([\n",
        "  layers.Flatten(input_shape=input_shape),\n",
        "  layers.Dense(48, activation='relu'),\n",
        "  layers.Dense(10, activation='softmax')\n",
        "])\n",
        "\n",
        "loss = 'sparse_categorical_crossentropy'\n",
        "\n",
        "model.compile(optimizer='adam', loss=loss, metrics=['accuracy'])\n",
        "\n",
        "hist = model.fit(train_image, train_label, validation_data=(test_image, test_label), epochs=5)"
      ]
    },
    {
      "cell_type": "code",
      "execution_count": 6,
      "metadata": {
        "colab": {
          "base_uri": "https://localhost:8080/"
        },
        "id": "z7MdKhUWS0Dm",
        "outputId": "bc11e5eb-2812-43ff-b865-7039fd37160a"
      },
      "outputs": [
        {
          "data": {
            "text/plain": [
              "[0.07313405722379684, 0.978600025177002]"
            ]
          },
          "execution_count": 6,
          "metadata": {},
          "output_type": "execute_result"
        }
      ],
      "source": [
        "model.evaluate(train_image, train_label, verbose=False)"
      ]
    },
    {
      "cell_type": "code",
      "execution_count": 7,
      "metadata": {
        "colab": {
          "base_uri": "https://localhost:8080/"
        },
        "id": "6BCTvaGRSusf",
        "outputId": "a83c6d3a-9e8d-43b0-a1e4-bed19c514a76"
      },
      "outputs": [
        {
          "data": {
            "text/plain": [
              "[0.10897240042686462, 0.9677000045776367]"
            ]
          },
          "execution_count": 7,
          "metadata": {},
          "output_type": "execute_result"
        }
      ],
      "source": [
        "model.evaluate(test_image, test_label, verbose=False)"
      ]
    },
    {
      "cell_type": "code",
      "execution_count": null,
      "metadata": {
        "id": "DRky0suzVQo1"
      },
      "outputs": [],
      "source": [
        "def model_builder(hp):\n",
        "  \"\"\"\n",
        "  Model Builder Keras Tuner\n",
        "  \"\"\"\n",
        "  model = Sequential()\n",
        "  unit_option = hp.Int('units', min_value=16, max_value=64, step=16)\n",
        "  model.add(layers.Flatten(input_shape=input_shape))\n",
        "  model.add(layers.Dense(unit_option, activation='relu'))\n",
        "  model.add(layers.Dense(10, activation='softmax'))\n",
        "  lr_option = hp.Choice('learning_rate', [0.001, 0.01, 0.005])\n",
        "  optim = optimizers.Adam(learning_rate=lr_option)\n",
        "  model.compile(optimizer=optim, loss=loss, metrics=['accuracy'])\n",
        "  return model\n",
        "\n",
        "project = 'intro_to_kt'\n",
        "\n",
        "dirt = 'tunerfolder'; target = 'val_accuracy'\n",
        "\n",
        "tuner = kt.Hyperband(model_builder, objective=target, max_epochs=8, directory=dirt, project_name=project)"
      ]
    },
    {
      "cell_type": "code",
      "execution_count": null,
      "metadata": {
        "id": "VJtxF7x_SrqR"
      },
      "outputs": [],
      "source": [
        "tuner.search(train_image, train_label, epochs=5, validation_data=(test_image, test_label))"
      ]
    },
    {
      "cell_type": "code",
      "execution_count": 10,
      "metadata": {
        "colab": {
          "base_uri": "https://localhost:8080/"
        },
        "id": "IhCqEZBmU5ns",
        "outputId": "e0ca8caa-0b89-4807-f666-2776a2d0a532"
      },
      "outputs": [
        {
          "data": {
            "text/plain": [
              "64"
            ]
          },
          "execution_count": 10,
          "metadata": {},
          "output_type": "execute_result"
        }
      ],
      "source": [
        "optimal = tuner.get_best_hyperparameters()[0]\n",
        "\n",
        "optimal.get('units')"
      ]
    },
    {
      "cell_type": "code",
      "execution_count": 11,
      "metadata": {
        "colab": {
          "base_uri": "https://localhost:8080/"
        },
        "id": "z93WgZXoVCTg",
        "outputId": "cb5ece3c-b451-4585-9486-c06a47468624"
      },
      "outputs": [
        {
          "data": {
            "text/plain": [
              "0.001"
            ]
          },
          "execution_count": 11,
          "metadata": {},
          "output_type": "execute_result"
        }
      ],
      "source": [
        "optimal.get('learning_rate')"
      ]
    },
    {
      "cell_type": "code",
      "execution_count": null,
      "metadata": {
        "id": "wt12jAWoVFzv"
      },
      "outputs": [],
      "source": [
        "optimal_model = tuner.hypermodel.build(optimal)\n",
        "\n",
        "hist = optimal_model.fit(train_image, train_label, epochs=5, validation_data=(test_image, test_label))"
      ]
    },
    {
      "cell_type": "code",
      "execution_count": 13,
      "metadata": {
        "colab": {
          "base_uri": "https://localhost:8080/"
        },
        "id": "9h2SqHIVVWVj",
        "outputId": "2327344c-63a3-42e0-df1a-ff6d24e4abea"
      },
      "outputs": [
        {
          "data": {
            "text/plain": [
              "[0.05522392317652702, 0.982866644859314]"
            ]
          },
          "execution_count": 13,
          "metadata": {},
          "output_type": "execute_result"
        }
      ],
      "source": [
        "optimal_model.evaluate(train_image, train_label, verbose=False)"
      ]
    },
    {
      "cell_type": "code",
      "execution_count": 14,
      "metadata": {
        "colab": {
          "base_uri": "https://localhost:8080/"
        },
        "id": "450HxQpvVZg3",
        "outputId": "a5a975a6-a00a-4405-ac2e-b0c80fc11a45"
      },
      "outputs": [
        {
          "data": {
            "text/plain": [
              "[0.09502466768026352, 0.9714999794960022]"
            ]
          },
          "execution_count": 14,
          "metadata": {},
          "output_type": "execute_result"
        }
      ],
      "source": [
        "optimal_model.evaluate(test_image, test_label, verbose=False)"
      ]
    }
  ],
  "metadata": {
    "colab": {
      "provenance": []
    },
    "kernelspec": {
      "display_name": "Python 3",
      "name": "python3"
    },
    "language_info": {
      "name": "python"
    }
  },
  "nbformat": 4,
  "nbformat_minor": 0
}
