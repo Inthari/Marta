{
  "nbformat": 4,
  "nbformat_minor": 0,
  "metadata": {
    "colab": {
      "provenance": []
    },
    "kernelspec": {
      "name": "python3",
      "display_name": "Python 3"
    },
    "language_info": {
      "name": "python"
    }
  },
  "cells": [
    {
      "cell_type": "code",
      "execution_count": 1,
      "metadata": {
        "id": "QnY0k0VfOfTG"
      },
      "outputs": [],
      "source": [
        "!pip install keras_tuner --quiet\n",
        "\n",
        "import os, warnings\n",
        "\n",
        "warnings.filterwarnings('ignore')\n",
        "\n",
        "import tensorflow as tf\n",
        "\n",
        "import keras_tuner as kt\n",
        "\n",
        "from tensorflow.keras import layers, models, datasets, optimizers"
      ]
    },
    {
      "cell_type": "code",
      "source": [
        "import numpy as np\n",
        "\n",
        "(train_image, train_label), (test_image, test_label) = datasets.mnist.load_data()\n",
        "\n",
        "train_image = tf.cast(train_image, tf.float32) / 255.0"
      ],
      "metadata": {
        "id": "PohMx3FKPkv-"
      },
      "execution_count": 2,
      "outputs": []
    },
    {
      "cell_type": "code",
      "source": [
        "test_image = tf.cast(test_image, tf.float32) / 255.0\n",
        "\n",
        "np.min(test_image[0]), np.max(test_image[0])"
      ],
      "metadata": {
        "colab": {
          "base_uri": "https://localhost:8080/"
        },
        "id": "Mv_60sY_Qx7u",
        "outputId": "79bf4106-5d9d-4f42-8dd4-0311fe083673"
      },
      "execution_count": 3,
      "outputs": [
        {
          "output_type": "execute_result",
          "data": {
            "text/plain": [
              "(0.0, 1.0)"
            ]
          },
          "metadata": {},
          "execution_count": 3
        }
      ]
    },
    {
      "cell_type": "code",
      "source": [
        "from tensorflow.keras.models import Sequential\n",
        "\n",
        "input_shape = (28, 28)\n",
        "\n",
        "model = Sequential([\n",
        "  # Create Simple Model\n",
        "  layers.Flatten(input_shape=input_shape),\n",
        "  layers.Dense(48, activation='relu'),\n",
        "  layers.Dense(10, activation='softmax')\n",
        "])\n",
        "\n",
        "model.compile(optimizer='adam', loss='sparse_categorical_crossentropy', metrics=['accuracy'])\n",
        "\n",
        "hist = model.fit(train_image, train_label, validation_data=(test_image, test_label), epochs=5, verbose=False)"
      ],
      "metadata": {
        "id": "EwVZL9w0SK2N"
      },
      "execution_count": 4,
      "outputs": []
    },
    {
      "cell_type": "code",
      "source": [
        "model.evaluate(train_image, train_label, verbose=False)"
      ],
      "metadata": {
        "colab": {
          "base_uri": "https://localhost:8080/"
        },
        "id": "z7MdKhUWS0Dm",
        "outputId": "bfcd7998-f64a-4444-a8fb-6fdb78aba26f"
      },
      "execution_count": 5,
      "outputs": [
        {
          "output_type": "execute_result",
          "data": {
            "text/plain": [
              "[0.05973245948553085, 0.9821166396141052]"
            ]
          },
          "metadata": {},
          "execution_count": 5
        }
      ]
    },
    {
      "cell_type": "code",
      "source": [
        "model.evaluate(test_image, test_label, verbose=False)"
      ],
      "metadata": {
        "colab": {
          "base_uri": "https://localhost:8080/"
        },
        "id": "6BCTvaGRSusf",
        "outputId": "c7b94e65-4005-4adf-b079-1aa14ee444de"
      },
      "execution_count": 6,
      "outputs": [
        {
          "output_type": "execute_result",
          "data": {
            "text/plain": [
              "[0.08800793439149857, 0.9731000065803528]"
            ]
          },
          "metadata": {},
          "execution_count": 6
        }
      ]
    },
    {
      "cell_type": "code",
      "source": [
        "loss = 'sparse_categorical_crossentropy'\n",
        "\n",
        "def model_builder(hp):\n",
        "  \"\"\"\n",
        "  Model Builder\n",
        "  \"\"\"\n",
        "  # Define Model\n",
        "  model = Sequential()\n",
        "  # Model Creation\n",
        "  unit_option = hp.Int('units', min_value=16, max_value=64, step=16)\n",
        "  model.add(layers.Flatten(input_shape=input_shape))\n",
        "  model.add(layers.Dense(unit_option, activation='relu'))\n",
        "  model.add(layers.Dense(10, activation='softmax'))\n",
        "  # Model Compile\n",
        "  lr_option = hp.Choice('learning_rate', [0.001, 0.01, 0.005])\n",
        "  optim = optimizers.Adam(learning_rate=lr_option)\n",
        "  model.compile(optimizer=optim, loss=loss, metrics=['accuracy'])\n",
        "  return model\n",
        "\n",
        "project = 'intro_to_kt'\n",
        "\n",
        "dirt = 'tunerfolder'; target = 'val_accuracy'\n",
        "\n",
        "tuner = kt.Hyperband(model_builder, objective=target, max_epochs=8, directory=dirt, project_name=project)"
      ],
      "metadata": {
        "id": "DRky0suzVQo1"
      },
      "execution_count": null,
      "outputs": []
    },
    {
      "cell_type": "code",
      "source": [
        "tuner.search(train_image, train_label, epochs=5, validation_data=(test_image, test_label))"
      ],
      "metadata": {
        "id": "VJtxF7x_SrqR"
      },
      "execution_count": 8,
      "outputs": []
    },
    {
      "cell_type": "code",
      "source": [
        "optimal = tuner.get_best_hyperparameters()[0]\n",
        "\n",
        "optimal.get('units')"
      ],
      "metadata": {
        "id": "IhCqEZBmU5ns",
        "outputId": "9a896936-5e7b-4e93-b673-023fb35265c3",
        "colab": {
          "base_uri": "https://localhost:8080/"
        }
      },
      "execution_count": 9,
      "outputs": [
        {
          "output_type": "execute_result",
          "data": {
            "text/plain": [
              "64"
            ]
          },
          "metadata": {},
          "execution_count": 9
        }
      ]
    },
    {
      "cell_type": "code",
      "source": [
        "optimal.get('learning_rate')"
      ],
      "metadata": {
        "id": "z93WgZXoVCTg",
        "outputId": "d68314e9-a248-44e8-f0f3-b66b85c94221",
        "colab": {
          "base_uri": "https://localhost:8080/"
        }
      },
      "execution_count": 10,
      "outputs": [
        {
          "output_type": "execute_result",
          "data": {
            "text/plain": [
              "0.001"
            ]
          },
          "metadata": {},
          "execution_count": 10
        }
      ]
    },
    {
      "cell_type": "code",
      "source": [
        "optimal_model = tuner.hypermodel.build(optimal)\n",
        "\n",
        "hist = optimal_model.fit(train_image, train_label, epochs=5, validation_data=(test_image, test_label), verbose=False)"
      ],
      "metadata": {
        "id": "wt12jAWoVFzv"
      },
      "execution_count": null,
      "outputs": []
    },
    {
      "cell_type": "code",
      "source": [
        "optimal_model.evaluate(train_image, train_label, verbose=False)"
      ],
      "metadata": {
        "id": "9h2SqHIVVWVj"
      },
      "execution_count": null,
      "outputs": []
    },
    {
      "cell_type": "code",
      "source": [
        "optimal_model.evaluate(test_image, test_label, verbose=False)"
      ],
      "metadata": {
        "id": "450HxQpvVZg3"
      },
      "execution_count": null,
      "outputs": []
    }
  ]
}