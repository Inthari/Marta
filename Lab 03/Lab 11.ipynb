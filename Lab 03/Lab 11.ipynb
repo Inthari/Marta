{
  "nbformat": 4,
  "nbformat_minor": 0,
  "metadata": {
    "colab": {
      "provenance": []
    },
    "kernelspec": {
      "name": "python3",
      "display_name": "Python 3"
    },
    "language_info": {
      "name": "python"
    }
  },
  "cells": [
    {
      "cell_type": "code",
      "execution_count": 1,
      "metadata": {
        "id": "QnY0k0VfOfTG"
      },
      "outputs": [],
      "source": [
        "import os, warnings\n",
        "\n",
        "warnings.filterwarnings('ignore')\n",
        "\n",
        "import tensorflow as tf\n",
        "\n",
        "import keras_tuner as kt\n",
        "\n",
        "from tensorflow.keras import layers, models, datasets, optimizers"
      ]
    },
    {
      "cell_type": "code",
      "source": [
        "import numpy as np\n",
        "\n",
        "(train_image, train_label), (test_image, test_label) = datasets.mnist.load_data()\n",
        "\n",
        "train_image = tf.cast(train_image, tf.float32) / 255.0\n",
        "\n",
        "np.min(train_image[0]), np.max(train_image[0])"
      ],
      "metadata": {
        "colab": {
          "base_uri": "https://localhost:8080/"
        },
        "id": "PohMx3FKPkv-",
        "outputId": "9a2c5f9c-42ae-44c8-a133-3163b9dabe1c"
      },
      "execution_count": 2,
      "outputs": [
        {
          "output_type": "execute_result",
          "data": {
            "text/plain": [
              "(0.0, 1.0)"
            ]
          },
          "metadata": {},
          "execution_count": 2
        }
      ]
    },
    {
      "cell_type": "code",
      "source": [
        "test_image = tf.cast(test_image, tf.float32) / 255.0\n",
        "\n",
        "np.min(test_image[0]), np.max(test_image[0])"
      ],
      "metadata": {
        "colab": {
          "base_uri": "https://localhost:8080/"
        },
        "id": "Mv_60sY_Qx7u",
        "outputId": "ce80e4bb-9b45-4e3d-a06d-54921b589287"
      },
      "execution_count": 3,
      "outputs": [
        {
          "output_type": "execute_result",
          "data": {
            "text/plain": [
              "(0.0, 1.0)"
            ]
          },
          "metadata": {},
          "execution_count": 3
        }
      ]
    },
    {
      "cell_type": "code",
      "source": [
        "from tensorflow.keras.models import Sequential\n",
        "\n",
        "input_shape = (28, 28)\n",
        "\n",
        "model = Sequential([\n",
        "  # Flatten\n",
        "  layers.Flatten(input_shape=input_shape),\n",
        "  # Target Layer\n",
        "  layers.Dense(48, activation='relu'),\n",
        "  # Output\n",
        "  layers.Dense(10, activation='softmax')\n",
        "])\n",
        "\n",
        "model.compile(optimizer='adam', loss='sparse_categorical_crossentropy', metrics=['accuracy'])\n",
        "\n",
        "hist = model.fit(train_image, train_label, validation_data=(test_image, test_label), epochs=5, verbose=False)"
      ],
      "metadata": {
        "id": "EwVZL9w0SK2N"
      },
      "execution_count": 4,
      "outputs": []
    },
    {
      "cell_type": "code",
      "source": [
        "model.evaluate(train_image, train_label, verbose=False)"
      ],
      "metadata": {
        "colab": {
          "base_uri": "https://localhost:8080/"
        },
        "id": "z7MdKhUWS0Dm",
        "outputId": "7765210f-c49e-4151-99d6-9e12722a99f8"
      },
      "execution_count": 5,
      "outputs": [
        {
          "output_type": "execute_result",
          "data": {
            "text/plain": [
              "[0.06548713892698288, 0.9816833138465881]"
            ]
          },
          "metadata": {},
          "execution_count": 5
        }
      ]
    },
    {
      "cell_type": "code",
      "source": [
        "model.evaluate(test_image, test_label, verbose=False)"
      ],
      "metadata": {
        "colab": {
          "base_uri": "https://localhost:8080/"
        },
        "id": "6BCTvaGRSusf",
        "outputId": "cfbbbfee-e1be-432b-8181-1a19bd616c3d"
      },
      "execution_count": 6,
      "outputs": [
        {
          "output_type": "execute_result",
          "data": {
            "text/plain": [
              "[0.09545131027698517, 0.9725000262260437]"
            ]
          },
          "metadata": {},
          "execution_count": 6
        }
      ]
    },
    {
      "cell_type": "code",
      "source": [
        "loss = 'sparse_categorical_crossentropy'\n",
        "\n",
        "def model_builder(hp):\n",
        "  \"\"\"\n",
        "  Model Builder\n",
        "  \"\"\"\n",
        "  model = Sequential()\n",
        "  units = hp.Int('units', min_value=16, max_value=64, step=16)\n",
        "  model.add(layers.Flatten(input_shape=input_shape))\n",
        "  model.add(layers.Dense(units, activation='relu'))\n",
        "  model.add(layers.Dense(10, activation='softmax'))\n",
        "  learning_rate = hp.Choice('learning_rate', [0.001, 0.01, 0.005])\n",
        "  optim = optimizers.Adam(learning_rate=learning_rate)\n",
        "  model.compile(optimizer=optim, loss=loss, metrics=['accuracy'])\n",
        "  return model\n",
        "\n",
        "project = 'intro_to_kt'\n",
        "\n",
        "dirt = 'tunerfolder'; target = 'val_accuracy'\n",
        "\n",
        "tuner = kt.Hyperband(model_builder, objective=target, max_epochs=8, directory=dirt, project_name=project)"
      ],
      "metadata": {
        "id": "DRky0suzVQo1"
      },
      "execution_count": 7,
      "outputs": []
    }
  ]
}