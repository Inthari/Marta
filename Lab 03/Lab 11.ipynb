{
  "cells": [
    {
      "cell_type": "code",
      "execution_count": 1,
      "metadata": {
        "id": "QnY0k0VfOfTG"
      },
      "outputs": [],
      "source": [
        "import os, warnings; warnings.filterwarnings('ignore')\n",
        "\n",
        "import tensorflow as tf\n",
        "\n",
        "import keras_tuner as kt"
      ]
    },
    {
      "cell_type": "code",
      "execution_count": 2,
      "metadata": {
        "id": "vomT0bqToMQF"
      },
      "outputs": [],
      "source": [
        "import numpy as np\n",
        "\n",
        "from tensorflow.keras import layers, models, datasets, optimizers\n",
        "\n",
        "(train_image, train_label), (test_image, test_label) = datasets.mnist.load_data()"
      ]
    },
    {
      "cell_type": "code",
      "execution_count": 3,
      "metadata": {
        "id": "PohMx3FKPkv-"
      },
      "outputs": [],
      "source": [
        "train_image = tf.cast(train_image, tf.float32) / 255.0"
      ]
    },
    {
      "cell_type": "code",
      "execution_count": 4,
      "metadata": {
        "colab": {
          "base_uri": "https://localhost:8080/"
        },
        "id": "Mv_60sY_Qx7u",
        "outputId": "ce50e803-d26b-41d8-d32e-1e769c7c0398"
      },
      "outputs": [
        {
          "output_type": "execute_result",
          "data": {
            "text/plain": [
              "(0.0, 1.0)"
            ]
          },
          "metadata": {},
          "execution_count": 4
        }
      ],
      "source": [
        "test_image = tf.cast(test_image, tf.float32) / 255.0\n",
        "\n",
        "np.min(test_image[0]), np.max(test_image[0])"
      ]
    },
    {
      "cell_type": "code",
      "execution_count": 5,
      "metadata": {
        "id": "EwVZL9w0SK2N"
      },
      "outputs": [],
      "source": [
        "from tensorflow.keras.models import Sequential\n",
        "\n",
        "loss = 'sparse_categorical_crossentropy'\n",
        "\n",
        "def model_builder():\n",
        "  \"\"\"\n",
        "  Model Builder 0\n",
        "  \"\"\"\n",
        "  # Model Builder\n",
        "  model = Sequential()\n",
        "  model.add(layers.Flatten(input_shape=(28, 28)))\n",
        "  model.add(layers.Dense(48, activation='relu'))\n",
        "  model.add(layers.Dense(10, activation='softmax'))\n",
        "  # Model Compile\n",
        "  model.compile(optimizer='adam', loss=loss, metrics=['accuracy'])\n",
        "  # Return Model\n",
        "  return model\n",
        "\n",
        "model = model_builder()\n",
        "\n",
        "hist = model.fit(train_image, train_label, validation_data=(test_image, test_label), epochs=5, verbose=False)"
      ]
    },
    {
      "cell_type": "code",
      "execution_count": 6,
      "metadata": {
        "colab": {
          "base_uri": "https://localhost:8080/"
        },
        "id": "z7MdKhUWS0Dm",
        "outputId": "356ebd00-7b35-4edf-fae7-ddc0b7d89c68"
      },
      "outputs": [
        {
          "output_type": "execute_result",
          "data": {
            "text/plain": [
              "[0.07605046033859253, 0.9775333404541016]"
            ]
          },
          "metadata": {},
          "execution_count": 6
        }
      ],
      "source": [
        "model.evaluate(train_image, train_label, verbose=False)"
      ]
    },
    {
      "cell_type": "code",
      "execution_count": 7,
      "metadata": {
        "colab": {
          "base_uri": "https://localhost:8080/"
        },
        "id": "6BCTvaGRSusf",
        "outputId": "eb90a8ce-b504-4c08-aeac-66ee1a7dc7f1"
      },
      "outputs": [
        {
          "output_type": "execute_result",
          "data": {
            "text/plain": [
              "[0.11200111359357834, 0.9668999910354614]"
            ]
          },
          "metadata": {},
          "execution_count": 7
        }
      ],
      "source": [
        "model.evaluate(test_image, test_label, verbose=False)"
      ]
    },
    {
      "cell_type": "code",
      "execution_count": 8,
      "metadata": {
        "id": "DRky0suzVQo1"
      },
      "outputs": [],
      "source": [
        "def model_builder(hp):\n",
        "  \"\"\"\n",
        "  Model Builder Keras Tuner\n",
        "  \"\"\"\n",
        "  model = Sequential()\n",
        "  unit_option = hp.Int('units', min_value=16, max_value=64, step=16)\n",
        "  model.add(layers.Flatten(input_shape=(28, 28)))\n",
        "  model.add(layers.Dense(unit_option, activation='relu'))\n",
        "  model.add(layers.Dense(10, activation='softmax'))\n",
        "  lr_option = hp.Choice('learning_rate', [0.001, 0.01, 0.005])\n",
        "  optim = optimizers.Adam(learning_rate=lr_option)\n",
        "  model.compile(optimizer=optim, loss=loss, metrics=['accuracy'])\n",
        "  return model\n",
        "\n",
        "project = 'intro_to_kt'\n",
        "\n",
        "dirt = 'tunerfolder'; target = 'val_accuracy'\n",
        "\n",
        "tuner = kt.Hyperband(model_builder, objective=target, max_epochs=8, directory=dirt, project_name=project)"
      ]
    },
    {
      "cell_type": "code",
      "execution_count": null,
      "metadata": {
        "id": "VJtxF7x_SrqR"
      },
      "outputs": [],
      "source": [
        "tuner.search(train_image, train_label, epochs=5, validation_data=(test_image, test_label))"
      ]
    },
    {
      "cell_type": "code",
      "execution_count": 10,
      "metadata": {
        "colab": {
          "base_uri": "https://localhost:8080/"
        },
        "id": "IhCqEZBmU5ns",
        "outputId": "b926d34c-6a82-4e43-cd12-7328e8d22ebc"
      },
      "outputs": [
        {
          "output_type": "execute_result",
          "data": {
            "text/plain": [
              "64"
            ]
          },
          "metadata": {},
          "execution_count": 10
        }
      ],
      "source": [
        "optimal = tuner.get_best_hyperparameters()[0]\n",
        "\n",
        "optimal.get('units')"
      ]
    },
    {
      "cell_type": "code",
      "execution_count": 11,
      "metadata": {
        "colab": {
          "base_uri": "https://localhost:8080/"
        },
        "id": "z93WgZXoVCTg",
        "outputId": "84fd8404-e86b-4ddf-a5b2-03f9ac791214"
      },
      "outputs": [
        {
          "output_type": "execute_result",
          "data": {
            "text/plain": [
              "0.001"
            ]
          },
          "metadata": {},
          "execution_count": 11
        }
      ],
      "source": [
        "optimal.get('learning_rate')"
      ]
    },
    {
      "cell_type": "code",
      "execution_count": 12,
      "metadata": {
        "id": "wt12jAWoVFzv"
      },
      "outputs": [],
      "source": [
        "optimal_model = tuner.hypermodel.build(optimal)\n",
        "\n",
        "hist = optimal_model.fit(train_image, train_label, epochs=5, validation_data=(test_image, test_label), verbose=False)"
      ]
    },
    {
      "cell_type": "code",
      "execution_count": 13,
      "metadata": {
        "colab": {
          "base_uri": "https://localhost:8080/"
        },
        "id": "9h2SqHIVVWVj",
        "outputId": "f3754ee6-21bb-4aea-fe6b-bd5e15af8475"
      },
      "outputs": [
        {
          "output_type": "execute_result",
          "data": {
            "text/plain": [
              "[0.05403641238808632, 0.9836833477020264]"
            ]
          },
          "metadata": {},
          "execution_count": 13
        }
      ],
      "source": [
        "optimal_model.evaluate(train_image, train_label, verbose=False)"
      ]
    },
    {
      "cell_type": "code",
      "execution_count": 14,
      "metadata": {
        "colab": {
          "base_uri": "https://localhost:8080/"
        },
        "id": "450HxQpvVZg3",
        "outputId": "ddd5fa1b-45ed-4af4-85b0-91f3971b44aa"
      },
      "outputs": [
        {
          "output_type": "execute_result",
          "data": {
            "text/plain": [
              "[0.08981950581073761, 0.9711999893188477]"
            ]
          },
          "metadata": {},
          "execution_count": 14
        }
      ],
      "source": [
        "optimal_model.evaluate(test_image, test_label, verbose=False)"
      ]
    }
  ],
  "metadata": {
    "colab": {
      "provenance": []
    },
    "kernelspec": {
      "display_name": "Python 3",
      "name": "python3"
    },
    "language_info": {
      "name": "python"
    }
  },
  "nbformat": 4,
  "nbformat_minor": 0
}