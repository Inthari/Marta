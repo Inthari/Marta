{
 "cells": [
  {
   "cell_type": "code",
   "execution_count": null,
   "metadata": {
    "vscode": {
     "languageId": "plaintext"
    }
   },
   "outputs": [],
   "source": [
    "import os, warnings\n",
    "\n",
    "warnings.filterwarnings('ignore')\n",
    "\n",
    "pipeline_root = \"pipeline\"\n",
    "\n",
    "data_root = \"data\"\n",
    "\n",
    "if not os.path.exists(pipeline_root): os.makedirs(pipeline_root)\n",
    "\n",
    "if not os.path.exists(data_root): os.makedirs(data_root)"
   ]
  },
  {
   "cell_type": "code",
   "execution_count": null,
   "metadata": {
    "vscode": {
     "languageId": "plaintext"
    }
   },
   "outputs": [],
   "source": [
    "import tensorflow as tf\n",
    "\n",
    "import tensorflow_datasets as tfds\n",
    "\n",
    "tfds.disable_progress_bar()\n",
    "\n",
    "tmpdir = \"/tmp/\"\n",
    "\n",
    "mnist, mnist_info = tfds.load('mnist', data_dir=tmpdir, with_info=True)"
   ]
  }
 ],
 "metadata": {
  "language_info": {
   "name": "python"
  }
 },
 "nbformat": 4,
 "nbformat_minor": 2
}
